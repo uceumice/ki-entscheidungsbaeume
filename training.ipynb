{
 "cells": [
  {
   "cell_type": "code",
   "execution_count": 14,
   "source": [
    "from Training import Training"
   ],
   "outputs": [],
   "metadata": {}
  },
  {
   "cell_type": "code",
   "execution_count": 15,
   "source": [
    "columns = ['P1AK', 'P2AK', 'P3AK', 'P41AK', 'P42AK', 'P5AK', 'P61AK', 'P62AK',\r\n",
    "       'P63AK', 'P7AK', 'P8AK']"
   ],
   "outputs": [],
   "metadata": {}
  },
  {
   "cell_type": "code",
   "execution_count": 16,
   "source": [
    "# GENERATION VON NEU\r\n",
    "training = Training(parkplatz_index=0, \r\n",
    "                    mode=0, \r\n",
    "                    limit_training_data=0.001,\r\n",
    "                    )"
   ],
   "outputs": [
    {
     "output_type": "stream",
     "name": "stdout",
     "text": [
      "DATASETS CREATED\n",
      "TREE CREATED\n"
     ]
    }
   ],
   "metadata": {}
  },
  {
   "cell_type": "code",
   "execution_count": 17,
   "source": [
    "training.validation_pruning(training.data_test, limit_pruning_data=0.01)"
   ],
   "outputs": [
    {
     "output_type": "stream",
     "name": "stdout",
     "text": [
      "Test Node: 2\n",
      "New Test-Score 0.14432989690721648\n",
      "Test Node: 6\n",
      "Test Node: 9\n",
      "New Test-Score 0.14432989690721648\n",
      "Test Node: 14\n",
      "New Test-Score 0.14432989690721648\n",
      "Test Node: 17\n",
      "New Test-Score 0.14432989690721648\n",
      "Test Node: 26\n",
      "New Test-Score 0.15463917525773196\n",
      "Test Node: 1\n",
      "New Test-Score 0.15463917525773196\n"
     ]
    }
   ],
   "metadata": {}
  },
  {
   "cell_type": "code",
   "execution_count": 18,
   "source": [
    "training.save_to_pkl(location_pkl=\"TREES_pkl/\")"
   ],
   "outputs": [],
   "metadata": {}
  }
 ],
 "metadata": {
  "orig_nbformat": 4,
  "language_info": {
   "name": "python",
   "version": "3.8.8",
   "mimetype": "text/x-python",
   "codemirror_mode": {
    "name": "ipython",
    "version": 3
   },
   "pygments_lexer": "ipython3",
   "nbconvert_exporter": "python",
   "file_extension": ".py"
  },
  "kernelspec": {
   "name": "python3",
   "display_name": "Python 3.8.8 64-bit"
  },
  "interpreter": {
   "hash": "a583de56b57080f1d7770e44d292460feb244c4b56d58367de32fb261d6cae32"
  }
 },
 "nbformat": 4,
 "nbformat_minor": 2
}