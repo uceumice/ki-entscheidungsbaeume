{
 "cells": [
  {
   "cell_type": "code",
   "execution_count": 3,
   "metadata": {},
   "outputs": [],
   "source": [
    "from Training import Training"
   ]
  },
  {
   "cell_type": "code",
   "execution_count": 4,
   "metadata": {},
   "outputs": [],
   "source": [
    "columns = ['P1AK', 'P2AK', 'P3AK', 'P41AK', 'P42AK', 'P5AK', 'P61AK', 'P62AK',\n",
    "       'P63AK', 'P7AK', 'P8AK']"
   ]
  },
  {
   "cell_type": "code",
   "execution_count": 5,
   "metadata": {},
   "outputs": [
    {
     "name": "stdout",
     "output_type": "stream",
     "text": [
      "DATASETS CREATED\n",
      "TREE CREATED\n"
     ]
    }
   ],
   "source": [
    "# GENERATION VON NEU\n",
    "training = Training(parkplatz_index=0, \n",
    "                    mode=0, \n",
    "                    limit_training_data=0.001,\n",
    "                    )"
   ]
  },
  {
   "cell_type": "code",
   "execution_count": 6,
   "metadata": {},
   "outputs": [
    {
     "name": "stdout",
     "output_type": "stream",
     "text": [
      "Test Node: 8\n",
      "New Test-Score 0.1875\n",
      "Test Node: 15\n",
      "New Test-Score 0.1875\n",
      "Test Node: 19\n",
      "Test Node: 23\n",
      "New Test-Score 0.1875\n",
      "Test Node: 1\n"
     ]
    }
   ],
   "source": [
    "training.validation_pruning(training.data_test, limit_pruning_data=0.01)"
   ]
  },
  {
   "cell_type": "code",
   "execution_count": 18,
   "metadata": {},
   "outputs": [],
   "source": [
    "training.save_to_pkl(location_pkl=\"TREES_pkl/\")"
   ]
  }
 ],
 "metadata": {
  "interpreter": {
   "hash": "a583de56b57080f1d7770e44d292460feb244c4b56d58367de32fb261d6cae32"
  },
  "kernelspec": {
   "display_name": "Python 3.8.8 64-bit",
   "name": "python3"
  },
  "language_info": {
   "codemirror_mode": {
    "name": "ipython",
    "version": 3
   },
   "file_extension": ".py",
   "mimetype": "text/x-python",
   "name": "python",
   "nbconvert_exporter": "python",
   "pygments_lexer": "ipython3",
   "version": "3.9.7"
  },
  "orig_nbformat": 4
 },
 "nbformat": 4,
 "nbformat_minor": 2
}
