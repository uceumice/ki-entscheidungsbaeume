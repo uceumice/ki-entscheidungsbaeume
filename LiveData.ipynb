{
 "cells": [
  {
   "cell_type": "markdown",
   "metadata": {},
   "source": [
    "# Live-Data\n",
    "- Web-Scraping\n",
    "- Jede Stunde werden die Angaben der __LIVE.csv__ Tabelle aktualisiert\n",
    "#### Was noch?\n",
    "- Manche Daten sind allerdings festgelegt."
   ]
  },
  {
   "cell_type": "code",
   "execution_count": 1,
   "metadata": {},
   "outputs": [],
   "source": [
    "import requests\n",
    "import pandas as pd\n",
    "from bs4 import BeautifulSoup\n",
    "import datetime as dt\n",
    "import time\n",
    "import pytz\n",
    "import pandas as pd\n",
    "import numpy as np\n",
    "\n",
    "ldf = pd.DataFrame({\"TimeStamp\": [],\n",
    "                    \"Uhrzeit\": [], \"Jahreszeit\": [], \n",
    "                    \"Event\": [],\"Ferien\": [], \"Feiertag\": [], \n",
    "                    \"Temp\": [], \"Rain\": [], \"Wind\": []})\n"
   ]
  },
  {
   "cell_type": "code",
   "execution_count": 2,
   "metadata": {},
   "outputs": [],
   "source": [
    "csv_name=\"LIVE.csv\""
   ]
  },
  {
   "cell_type": "code",
   "execution_count": 3,
   "metadata": {},
   "outputs": [],
   "source": [
    "def go_Live():\n",
    "    # WEBSCRAPING\n",
    "    url_wetterdaten = 'http://wetter.upb.de/handy.html/'\n",
    "    response_wd = requests.get(url_wetterdaten)\n",
    "    soup_wd = BeautifulSoup(response_wd.content, \"html5lib\")\n",
    "\n",
    "    res = requests.get(url_wetterdaten)\n",
    "    html_page = res.content\n",
    "    soup_wd = BeautifulSoup(html_page, 'html.parser')\n",
    "    text = soup_wd.find_all(text=True)\n",
    "\n",
    "    #Getter von live-Wetterdaten\n",
    "    def get_temp():\n",
    "        for i,t in enumerate(text):\n",
    "            if 'Temp:' in t:\n",
    "                x = i+1\n",
    "        z = ''\n",
    "        for i in text[x]:\n",
    "            if i.isnumeric() == True or i == '.':\n",
    "                z = z + i\n",
    "        return z\n",
    "    def get_rain():\n",
    "        for i,t in enumerate(text):\n",
    "            if 'Regen' in t:\n",
    "                x = i+1\n",
    "        z = ''\n",
    "        for i in text[x]:\n",
    "            if i.isnumeric() == True or i == '.':\n",
    "                z = z + i\n",
    "        return z\n",
    "\n",
    "    def get_wind():\n",
    "        for i,t in enumerate(text):\n",
    "            if 'Windstärke' in t:\n",
    "                x = i+2\n",
    "            z = ''\n",
    "        for i in text[x]:\n",
    "            if i.isnumeric() == True or i == '.':\n",
    "                z = z + i\n",
    "        return z\n",
    "\n",
    "    def get_zeit() -> dt.datetime:\n",
    "        tz= pytz.timezone(\"Europe/Berlin\")\n",
    "        uhrzeit = tz.localize(dt.datetime.now()).replace(microsecond=0, second=0, minute=0)\n",
    "        return uhrzeit\n",
    "    \n",
    "    def get_wochentag():\n",
    "        tag = get_zeit().weekday()\n",
    "        \n",
    "        if tag == 0:\n",
    "            _tag = 'Montag'\n",
    "        elif tag == 1:\n",
    "            _tag = 'Dienstag'\n",
    "        elif tag == 2:\n",
    "            _tag = 'Mittwoch'\n",
    "        elif tag == 3:\n",
    "            _tag = 'Donnerstag'\n",
    "        elif tag == 4:\n",
    "            _tag = 'Freitag'\n",
    "        elif tag == 5:\n",
    "            _tag = 'Samstag'\n",
    "        elif tag == 6:\n",
    "            _tag = 'Sonntag'\n",
    "        else : \n",
    "            pass \n",
    "\n",
    "        return _tag\n",
    "\n",
    "    def get_jahreszeit():\n",
    "        tag = get_zeit()\n",
    "        if 3 <= tag.month <= 5:\n",
    "            return 'Frühling'\n",
    "        elif 6 <= tag.month <= 8:\n",
    "            return 'Sommer'\n",
    "        elif 9 <= tag.month <= 11:\n",
    "            return 'Herbst'\n",
    "        elif 12 == tag.month or 1 <= tag.month <= 2:\n",
    "            return 'Winter'\n",
    "\n",
    "\n",
    "    event = 'nichts'\n",
    "    feiertag = False\n",
    "    ferien = False\n",
    "    \n",
    "    return {\n",
    "        'Uhrzeit': get_zeit().strftime(\"%H:%M:%S\"),\n",
    "        'Wochentag': get_wochentag(),\n",
    "        'Jahreszeit': get_jahreszeit(),\n",
    "        'Events': event,\n",
    "        'Ferien': ferien,\n",
    "        'Temp': get_temp(),\n",
    "        'Rain': get_rain(),\n",
    "        'Windlage': get_wind(),\n",
    "        'Feiertag': feiertag\n",
    "    }\n"
   ]
  },
  {
   "cell_type": "code",
   "execution_count": 4,
   "metadata": {},
   "outputs": [],
   "source": [
    "def fetch_data():\n",
    "    data = go_Live()\n",
    "    frame = pd.DataFrame(data=data, index=[0])\n",
    "    frame.to_csv(csv_name, index=False)"
   ]
  },
  {
   "cell_type": "code",
   "execution_count": 5,
   "metadata": {},
   "outputs": [
    {
     "ename": "KeyboardInterrupt",
     "evalue": "",
     "output_type": "error",
     "traceback": [
      "\u001b[0;31m---------------------------------------------------------------------------\u001b[0m",
      "\u001b[0;31mKeyboardInterrupt\u001b[0m                         Traceback (most recent call last)",
      "\u001b[1;32m/home/uceumice/Projects/1_archive/ki-entscheidungsbaeume/LiveData.ipynb Cell 6'\u001b[0m in \u001b[0;36m<cell line: 4>\u001b[0;34m()\u001b[0m\n\u001b[1;32m      <a href='vscode-notebook-cell:/home/uceumice/Projects/1_archive/ki-entscheidungsbaeume/LiveData.ipynb#ch0000005?line=0'>1</a>\u001b[0m fetch_data()\n\u001b[1;32m      <a href='vscode-notebook-cell:/home/uceumice/Projects/1_archive/ki-entscheidungsbaeume/LiveData.ipynb#ch0000005?line=2'>3</a>\u001b[0m \u001b[39mwhile\u001b[39;00m \u001b[39mTrue\u001b[39;00m:\n\u001b[0;32m----> <a href='vscode-notebook-cell:/home/uceumice/Projects/1_archive/ki-entscheidungsbaeume/LiveData.ipynb#ch0000005?line=3'>4</a>\u001b[0m     time\u001b[39m.\u001b[39;49msleep(\u001b[39m0.5\u001b[39;49m)\n\u001b[1;32m      <a href='vscode-notebook-cell:/home/uceumice/Projects/1_archive/ki-entscheidungsbaeume/LiveData.ipynb#ch0000005?line=4'>5</a>\u001b[0m     now \u001b[39m=\u001b[39m dt\u001b[39m.\u001b[39mdatetime\u001b[39m.\u001b[39mnow()\n\u001b[1;32m      <a href='vscode-notebook-cell:/home/uceumice/Projects/1_archive/ki-entscheidungsbaeume/LiveData.ipynb#ch0000005?line=5'>6</a>\u001b[0m     \u001b[39mif\u001b[39;00m now\u001b[39m.\u001b[39mminute \u001b[39m==\u001b[39m \u001b[39m1\u001b[39m:\n",
      "\u001b[0;31mKeyboardInterrupt\u001b[0m: "
     ]
    }
   ],
   "source": [
    "fetch_data()\n",
    "\n",
    "while True:\n",
    "    time.sleep(0.5)\n",
    "    now = dt.datetime.now()\n",
    "    if now.minute == 1:\n",
    "        break\n",
    "while True:\n",
    "    fetch_data()\n",
    "    time.sleep(3600)"
   ]
  }
 ],
 "metadata": {
  "interpreter": {
   "hash": "e94a8b5e93aa01e41e6e7fd5eed958095e4de698ea2869d3915701e87360bf95"
  },
  "kernelspec": {
   "display_name": "Python 3.7.8 64-bit",
   "name": "python3"
  },
  "language_info": {
   "codemirror_mode": {
    "name": "ipython",
    "version": 3
   },
   "file_extension": ".py",
   "mimetype": "text/x-python",
   "name": "python",
   "nbconvert_exporter": "python",
   "pygments_lexer": "ipython3",
   "version": "3.9.7"
  }
 },
 "nbformat": 4,
 "nbformat_minor": 5
}
