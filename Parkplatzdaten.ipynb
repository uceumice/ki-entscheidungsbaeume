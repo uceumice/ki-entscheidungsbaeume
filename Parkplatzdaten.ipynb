{
 "cells": [
  {
   "cell_type": "markdown",
   "source": [
    "# Parkplatzdaten Reinigung\r\n",
    "- automatisierte Reinigung von Parkplatzdaten\r\n",
    "- inklusive Spezialfall bei 2018"
   ],
   "metadata": {}
  },
  {
   "cell_type": "code",
   "execution_count": null,
   "source": [
    "# Man muss für jedes Jahr den entsrechenden Index setzen!\r\n",
    "# 0 bis 3\r\n",
    "_file_index = 0"
   ],
   "outputs": [],
   "metadata": {}
  },
  {
   "cell_type": "code",
   "execution_count": 3,
   "source": [
    "import_dir = \"PPD_ungereinigt/\"\r\n",
    "export_dir = \"PPD_gereinigt/\"\r\n",
    "files_list = [  'Einlaeufe2017.csv',\r\n",
    "                'Einlaeufe2018.csv', \r\n",
    "                'Einlaeufe2019.csv', \r\n",
    "                'Einlaeufe2020.csv'\r\n",
    "                ]"
   ],
   "outputs": [],
   "metadata": {}
  },
  {
   "cell_type": "code",
   "execution_count": 2,
   "source": [
    "import pandas as pd\r\n",
    "import numpy as np\r\n",
    "from ipywidgets import interactive\r\n",
    "\r\n",
    "import cufflinks as cf\r\n",
    "cf.go_offline()\r\n",
    "cf.set_config_file(offline=False, world_readable=True)"
   ],
   "outputs": [
    {
     "output_type": "display_data",
     "data": {
      "text/html": [
       "        <script type=\"text/javascript\">\n",
       "        window.PlotlyConfig = {MathJaxConfig: 'local'};\n",
       "        if (window.MathJax) {MathJax.Hub.Config({SVG: {font: \"STIX-Web\"}});}\n",
       "        if (typeof require !== 'undefined') {\n",
       "        require.undef(\"plotly\");\n",
       "        requirejs.config({\n",
       "            paths: {\n",
       "                'plotly': ['https://cdn.plot.ly/plotly-2.4.1.min']\n",
       "            }\n",
       "        });\n",
       "        require(['plotly'], function(Plotly) {\n",
       "            window._Plotly = Plotly;\n",
       "        });\n",
       "        }\n",
       "        </script>\n",
       "        "
      ]
     },
     "metadata": {}
    }
   ],
   "metadata": {}
  },
  {
   "cell_type": "code",
   "execution_count": 4,
   "source": [
    "import_dirs_list = [import_dir+f for f in files_list]"
   ],
   "outputs": [],
   "metadata": {}
  },
  {
   "cell_type": "code",
   "execution_count": 5,
   "source": [
    "#'Daten/Einlaeufe2020.csv'\r\n",
    "def Vorbereitung_Phase_I(filepath, key, encoding):\r\n",
    "    # -> normalisierte Datentypen, Schlüsselsetzung\r\n",
    "    def csv_to_dataframe(filepath):\r\n",
    "        return pd.read_csv(filepath_or_buffer=filepath, sep =';', encoding=encoding)\r\n",
    "    \r\n",
    "    def transform(df, key):\r\n",
    "        df['TimeStamp'] = pd.to_datetime(df['TimeStamp'], dayfirst=True)\r\n",
    "        df = df.dropna(how='all', axis=1)\r\n",
    "        df = df.set_index(key)\r\n",
    "        t_df = df.sort_index()\r\n",
    "        return t_df\r\n",
    "    \r\n",
    "    df_AK = transform(csv_to_dataframe(filepath), key).filter(like = 'AK') \r\n",
    "    df_AK[~df_AK.apply(pd.to_numeric, errors='coerce').notnull().all(1)]\r\n",
    "\r\n",
    "    return df_AK.apply(pd.to_numeric, errors='coerce')"
   ],
   "outputs": [],
   "metadata": {}
  },
  {
   "cell_type": "code",
   "execution_count": 6,
   "source": [
    "def Vorbereitung_Phase_II(df: pd.DataFrame):\r\n",
    "    # -> Prozentanzahl\r\n",
    "    def max_limit(plaetze):\r\n",
    "        def foo(belegt):\r\n",
    "            return belegt/plaetze\r\n",
    "        return foo\r\n",
    "    \r\n",
    "    max_p = {\r\n",
    "        'P1AK': max_limit(640),\r\n",
    "        'P2AK': max_limit(540),\r\n",
    "        'P3AK': max_limit(540),\r\n",
    "        'P41AK': max_limit(670),\r\n",
    "        'P42AK': max_limit(670),\r\n",
    "        'P5AK': max_limit(500),\r\n",
    "        'P61AK': max_limit(290),\r\n",
    "        'P62AK': max_limit(290),\r\n",
    "        'P63AK': max_limit(290),\r\n",
    "        'P7AK': max_limit(290),\r\n",
    "        'P8AK': max_limit(160)\r\n",
    "    }\r\n",
    "    \r\n",
    "    for c in df.columns:\r\n",
    "        df[c].apply(func=max_p[c])\r\n",
    "\r\n",
    "    return df"
   ],
   "outputs": [],
   "metadata": {}
  },
  {
   "cell_type": "code",
   "execution_count": 7,
   "source": [
    "def Vorbereitung(filepath, key=\"TimeStamp\", encoding=\"utf-8\"):\r\n",
    "    a = Vorbereitung_Phase_I(filepath, key, encoding)\r\n",
    "    return Vorbereitung_Phase_II(a)"
   ],
   "outputs": [],
   "metadata": {}
  },
  {
   "cell_type": "code",
   "execution_count": 8,
   "source": [
    "def visualize(df, **kwargs):\r\n",
    "    df.iplot(**kwargs)"
   ],
   "outputs": [],
   "metadata": {}
  },
  {
   "cell_type": "code",
   "execution_count": 14,
   "source": [
    "def Reinigung(df):\r\n",
    "    def analyze(column):\r\n",
    "        pd.options.display.max_rows = 100\r\n",
    "        print(df[column].sort_values(ascending=False))\r\n",
    "        \r\n",
    "    for c in df.columns:\r\n",
    "        def a():\r\n",
    "            analyze(c)\r\n",
    "            visualize(df[c], title=c)\r\n",
    "            s = input(\"Threashold: \")\r\n",
    "            return s\r\n",
    "        \r\n",
    "        def setting_threshold(th):\r\n",
    "            condition = df[c] <= th\r\n",
    "            df[c].where(cond=condition, other=np.nan, inplace=True)\r\n",
    "            ag = input(\"Adjust?: \")\r\n",
    "            if \"-\" in ag:\r\n",
    "                return False\r\n",
    "            else:\r\n",
    "                return True\r\n",
    "            \r\n",
    "        while(True):\r\n",
    "            th = a()\r\n",
    "            if th is not \"-\":\r\n",
    "                while(True):\r\n",
    "                    ag = setting_threshold(int(th))\r\n",
    "                    if ag is False:\r\n",
    "                        break\r\n",
    "            else:\r\n",
    "                break\r\n",
    "    return df"
   ],
   "outputs": [],
   "metadata": {}
  },
  {
   "cell_type": "code",
   "execution_count": 15,
   "source": [
    "def Speicherung(df):\r\n",
    "    s_n = input(\"Select Name for Your Table: \")\r\n",
    "    df.to_csv(export_dir + s_n + '.csv')"
   ],
   "outputs": [],
   "metadata": {}
  },
  {
   "cell_type": "code",
   "execution_count": null,
   "source": [
    "df = Vorbereitung(import_dirs_list[_file_index], encoding=\"latin\")\r\n",
    "\r\n",
    "df = Reinigung(df)\r\n",
    "Speicherung(df)"
   ],
   "outputs": [],
   "metadata": {}
  },
  {
   "cell_type": "markdown",
   "source": [
    "## Spezialfall\r\n",
    "Bei 2018 sind die Datensätze verschoben"
   ],
   "metadata": {}
  },
  {
   "cell_type": "code",
   "execution_count": null,
   "source": [
    "#EIN SPEZIALFALL BEI 2018 TABELLE\r\n",
    "df = pd.read_csv(filepath_or_buffer=\"new2020.csv\", sep=\",\", encoding=\"utf-8\")\r\n",
    "\r\n",
    "#ÖFFNEN + INDEX SETZEN\r\n",
    "df['TimeStamp'] = pd.to_datetime(df['TimeStamp'], dayfirst=True)\r\n",
    "df = df.set_index(\"TimeStamp\")\r\n",
    "\r\n",
    "# CONDITION SETZEN\r\n",
    "dd = df[\"TimeStamp\"].apply(lambda x: x.replace(year=2018))\r\n",
    "# BEARBEITEN\r\n",
    "df[\"TimeStamp\"] = np.where(df[\"TimeStamp\"].dt.year == 2015, dd, df[\"TimeStamp\"])"
   ],
   "outputs": [],
   "metadata": {}
  }
 ],
 "metadata": {
  "kernelspec": {
   "name": "python3",
   "display_name": "Python 3.7.8 64-bit"
  },
  "language_info": {
   "codemirror_mode": {
    "name": "ipython",
    "version": 3
   },
   "file_extension": ".py",
   "mimetype": "text/x-python",
   "name": "python",
   "nbconvert_exporter": "python",
   "pygments_lexer": "ipython3",
   "version": "3.7.8"
  },
  "interpreter": {
   "hash": "e94a8b5e93aa01e41e6e7fd5eed958095e4de698ea2869d3915701e87360bf95"
  }
 },
 "nbformat": 4,
 "nbformat_minor": 4
}