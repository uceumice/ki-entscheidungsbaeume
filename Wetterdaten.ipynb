{
 "cells": [
  {
   "cell_type": "markdown",
   "source": [
    "# Wetterdaten\r\n",
    "- Reinigung\r\n",
    "- Zusammenfügung in eine Jahres-Datei"
   ],
   "metadata": {}
  },
  {
   "cell_type": "markdown",
   "source": [
    "## **Für jeden Ordner**:"
   ],
   "metadata": {}
  },
  {
   "cell_type": "code",
   "execution_count": null,
   "source": [
    "# ORDNER\r\n",
    "import_directory = \"WD_ungereinigt/2020/\" # 2018, 2019, 2020 müssen jedes Mal geändert werden"
   ],
   "outputs": [],
   "metadata": {}
  },
  {
   "cell_type": "code",
   "execution_count": null,
   "source": [
    "# DIR+DATEINAME\r\n",
    "export_directory = \"WD_gereinigt/test.csv\" # oder enifach WD_gereinigt/test"
   ],
   "outputs": [],
   "metadata": {}
  },
  {
   "cell_type": "code",
   "execution_count": null,
   "source": [
    "import pandas as pd\r\n",
    "import numpy as np\r\n",
    "import cufflinks as cf\r\n",
    "from ipywidgets import interactive\r\n",
    "import datetime as dt\r\n",
    "import os\r\n",
    "\r\n",
    "\r\n",
    "# SETTING PARAMETERS\r\n",
    "cf.go_offline()\r\n",
    "cf.set_config_file(offline=False, world_readable=True)"
   ],
   "outputs": [],
   "metadata": {}
  },
  {
   "cell_type": "code",
   "execution_count": null,
   "source": [
    "# SETTING PARAMETERS\r\n",
    "def open(filepath):\r\n",
    "    return pd.read_csv(filepath, sep='\\t', header=[0,1])"
   ],
   "outputs": [],
   "metadata": {}
  },
  {
   "cell_type": "code",
   "execution_count": null,
   "source": [
    "def combine_timestamp_column(df):\r\n",
    "    df[('Unnamed: 0_level_0', 'Date')] = pd.to_datetime(df[('Unnamed: 0_level_0', 'Date')], dayfirst=True)\r\n",
    "    df[('Unnamed: 1_level_0', 'Time')] = pd.to_datetime(df[('Unnamed: 1_level_0', 'Time')])\r\n",
    "    \r\n",
    "    l_ts = []\r\n",
    "\r\n",
    "    for i in range(0,  len(df[\"Unnamed: 1_level_0\"][\"Time\"])):\r\n",
    "        year = df[\"Unnamed: 0_level_0\"][\"Date\"][i].year\r\n",
    "        month = df[\"Unnamed: 0_level_0\"][\"Date\"][i].month\r\n",
    "        day = df[\"Unnamed: 0_level_0\"][\"Date\"][i].day\r\n",
    "        hour = df[\"Unnamed: 1_level_0\"][\"Time\"][i].hour\r\n",
    "        minute = df[\"Unnamed: 1_level_0\"][\"Time\"][i].minute\r\n",
    "    \r\n",
    "        if 30 < minute < 60:\r\n",
    "            minute = 30\r\n",
    "        elif 0 < minute < 30:\r\n",
    "            minute = 0\r\n",
    "\r\n",
    "        l_ts.append(pd.Timestamp(year=year, month=month, day=day,  hour=hour, minute=minute))\r\n",
    "        \r\n",
    "    df[\"TimeStamp\"] = l_ts\r\n",
    "    return df"
   ],
   "outputs": [],
   "metadata": {
    "scrolled": true
   }
  },
  {
   "cell_type": "code",
   "execution_count": null,
   "source": [
    "def delete_columns(df):\r\n",
    "    # Zu entfernende Spalten\r\n",
    "    columns = [\"Unnamed: 1_level_0\", \"Unnamed: 0_level_0\", \"Hi\", \"Low\", \"Out\", \"Dew\", \"Unnamed: 14_level_0\", \r\n",
    "                 (\"Heat\", \"D-D \"), (\"Heat\", \"Index\"), (\"Wind\", \"Chill\"), (\"Wind\", \"Run\"), (\"Wind\", \"Dir\"), \r\n",
    "                 (\"Cool\", \"D-D \"), \"Arc.\", (\"In \", \"Temp\"), (\"In\", \"Hum\"), (\"In \", \"Dew\"), (\"In \", \"Heat\")\r\n",
    "              ]\r\n",
    "\r\n",
    "    # Spalten entfernen\r\n",
    "    df = df.drop(columns=columns)\r\n",
    "\r\n",
    "    # Multiindex entfernen\r\n",
    "    df.columns = df.columns.droplevel(level=1)\r\n",
    "    # \"Rain\" Spalte richtig benennen\r\n",
    "    df.rename(columns = {\"Unnamed: 15_level_0\":\"Rain\"}, inplace = True)\r\n",
    "\r\n",
    "    # Nicht numerische Werte entfernen\r\n",
    "    df[\"THW\"] = pd.to_numeric(df[\"THW\"], errors='coerce')\r\n",
    "    \r\n",
    "    \r\n",
    "    return df"
   ],
   "outputs": [],
   "metadata": {}
  },
  {
   "cell_type": "code",
   "execution_count": null,
   "source": [
    "def delete_rows(df):\r\n",
    "    for i in range(0, len(df[\"TimeStamp\"])):\r\n",
    "        m_value = df[\"TimeStamp\"][i].minute\r\n",
    "        if m_value == 30:\r\n",
    "            df = df.drop(index=i)\r\n",
    "        \r\n",
    "    return df.reset_index()"
   ],
   "outputs": [],
   "metadata": {}
  },
  {
   "cell_type": "code",
   "execution_count": null,
   "source": [
    "def Reinige(filepath):\r\n",
    "    df = open(filepath)\r\n",
    "    df = combine_timestamp_column(df)\r\n",
    "    df = delete_columns(df)\r\n",
    "    df = delete_rows(df)\r\n",
    "    df = df.drop(columns=\"index\")\r\n",
    "    df = df.set_index(\"TimeStamp\")\r\n",
    "    return df"
   ],
   "outputs": [],
   "metadata": {}
  },
  {
   "cell_type": "code",
   "execution_count": null,
   "source": [
    "def Speichere(name, df):\r\n",
    "    if name[-4:] != \".csv\":\r\n",
    "        name = name +'.csv'\r\n",
    "    df.to_csv(name)\r\n",
    "    return name"
   ],
   "outputs": [],
   "metadata": {}
  },
  {
   "cell_type": "code",
   "execution_count": null,
   "source": [
    "frames = []\r\n",
    "for filename in os.listdir(import_directory):\r\n",
    "    print(\"PROCESSING: \" + str(filename))\r\n",
    "    df = Reinige(import_directory+filename)\r\n",
    "    frames.append(df)\r\n",
    "    print(\"APPENDED: \" + str(filename))"
   ],
   "outputs": [],
   "metadata": {}
  },
  {
   "cell_type": "code",
   "execution_count": null,
   "source": [
    "result = pd.concat(frames)"
   ],
   "outputs": [],
   "metadata": {}
  },
  {
   "cell_type": "code",
   "execution_count": null,
   "source": [
    "Speichere(export_directory, result)"
   ],
   "outputs": [],
   "metadata": {}
  }
 ],
 "metadata": {
  "kernelspec": {
   "name": "python3",
   "display_name": "Python 3.8.8 64-bit"
  },
  "language_info": {
   "codemirror_mode": {
    "name": "ipython",
    "version": 3
   },
   "file_extension": ".py",
   "mimetype": "text/x-python",
   "name": "python",
   "nbconvert_exporter": "python",
   "pygments_lexer": "ipython3",
   "version": "3.8.8"
  },
  "toc": {
   "base_numbering": 1,
   "nav_menu": {},
   "number_sections": true,
   "sideBar": true,
   "skip_h1_title": false,
   "title_cell": "Table of Contents",
   "title_sidebar": "Contents",
   "toc_cell": false,
   "toc_position": {},
   "toc_section_display": true,
   "toc_window_display": false
  },
  "interpreter": {
   "hash": "a583de56b57080f1d7770e44d292460feb244c4b56d58367de32fb261d6cae32"
  }
 },
 "nbformat": 4,
 "nbformat_minor": 4
}