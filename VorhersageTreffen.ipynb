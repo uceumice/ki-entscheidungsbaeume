{
 "cells": [
  {
   "cell_type": "code",
   "execution_count": 85,
   "metadata": {},
   "outputs": [],
   "source": [
    "from PyTree import ClassificationTree as ct\n",
    "import pandas as pd\n",
    "from Training import load_from_pkl"
   ]
  },
  {
   "cell_type": "code",
   "execution_count": 86,
   "metadata": {},
   "outputs": [],
   "source": [
    "parkplaetze = {\n",
    "    0: \"TREES_pkl/P1AK.pkl\",\n",
    "    1: \"TREES_pkl/P2AK.pkl\",\n",
    "    2: \"TREES_pkl/P3AK.pkl\",\n",
    "    3: \"TREES_pkl/P41AK.pkl\",\n",
    "    4: \"TREES_pkl/P42AK.pkl\",\n",
    "    5: \"TREES_pkl/P5AK.pkl\",\n",
    "    6: \"TREES_pkl/P61AK.pkl\",\n",
    "    7: \"TREES_pkl/P62AK.pkl\",\n",
    "    8: \"TREES_pkl/P63AK.pkl\",\n",
    "    9: \"TREES_pkl/P7AK.pkl\",\n",
    "    10: \"TREES_pkl/P8AK.pkl\",\n",
    "}"
   ]
  },
  {
   "cell_type": "code",
   "execution_count": 87,
   "metadata": {},
   "outputs": [],
   "source": [
    "def _vorhersage(p_index):\n",
    "    data = pd.read_csv(\"LIVE.csv\", sep=\",\", index_col=False)\n",
    "    tree: ct.DecisionTree = load_from_pkl(parkplaetze[p_index])\n",
    "    \n",
    "    query = {\n",
    "        'Wochentag': data[\"Wochentag\"],       # str  ->   \"Montag\"-\"Sontag\"\n",
    "        'Feiertag': data[\"Feiertag\"],         # bool ->   True/False\n",
    "        'Uhrzeit': data[\"Uhrzeit\"],           # str ->    \"00:00:00\"-\"23:00:00\"\n",
    "        'Schulferien': data[\"Ferien\"],   # bool ->   True/False\n",
    "        'Jahreszeit': data[\"Jahreszeit\"],     # str ->    \"Winter\"-\"Herbst\"\n",
    "        'Temp': data[\"Temp\"],                 # float ->  beliebig\n",
    "        'Rain': data[\"Rain\"],                 # float ->  beliebig\n",
    "        'Windlage': data[\"Windlage\"],         # str ->    \"Irrelevant\"/\"Frischer Wind\"/\"starker Wind\"/\"steifer Wind\"/\"stürmischer Wind\"/\"Sturm\"\n",
    "        'Event': data[\"Events\"]                # str ->    \"nichts\"/\"Weihnachtsmarkt\"/\"Luna-Park\"/\"Libori\"/\"Herbstlibori\"\n",
    "    }\n",
    "\n",
    "    vorhersage = tree.query(pd.Series(query))\n",
    "    return str(vorhersage*100)"
   ]
  },
  {
   "cell_type": "code",
   "execution_count": 88,
   "metadata": {},
   "outputs": [],
   "source": [
    "def sage_vorher_für(i):\n",
    "    print(f\"BEI \\\"{parkplaetze[i][10:][:4]}\\\" IST IN DER NÄCHSTEN STUNDE \"+ _vorhersage(i) + \"% BELEGUNG ERWARTET\") # 0-10"
   ]
  },
  {
   "cell_type": "markdown",
   "metadata": {},
   "source": [
    "# VORHERSAGEN TREFFEN\n",
    "FERTIG)"
   ]
  },
  {
   "cell_type": "code",
   "execution_count": 89,
   "metadata": {},
   "outputs": [],
   "source": [
    "parpkplatz = 5"
   ]
  },
  {
   "cell_type": "code",
   "execution_count": 90,
   "metadata": {},
   "outputs": [
    {
     "name": "stdout",
     "output_type": "stream",
     "text": [
      "BEI \"P5AK\" IST IN DER NÄCHSTEN STUNDE 10.0% BELEGUNG ERWARTET\n"
     ]
    }
   ],
   "source": [
    "sage_vorher_für(parpkplatz)"
   ]
  }
 ],
 "metadata": {
  "interpreter": {
   "hash": "c2ffa869dc0915dfde85298182570219b35846f4d930a86906308fc44ba3a032"
  },
  "kernelspec": {
   "display_name": "Python 3.9.7 64-bit (windows store)",
   "name": "python3"
  },
  "language_info": {
   "codemirror_mode": {
    "name": "ipython",
    "version": 3
   },
   "file_extension": ".py",
   "mimetype": "text/x-python",
   "name": "python",
   "nbconvert_exporter": "python",
   "pygments_lexer": "ipython3",
   "version": "3.9.7"
  },
  "orig_nbformat": 4
 },
 "nbformat": 4,
 "nbformat_minor": 2
}
