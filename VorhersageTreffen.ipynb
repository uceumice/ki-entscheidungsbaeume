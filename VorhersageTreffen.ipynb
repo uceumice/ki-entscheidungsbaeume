{
 "cells": [
  {
   "cell_type": "code",
   "execution_count": 1,
   "source": [
    "from PyTree import ClassificationTree as ct\r\n",
    "import pandas as pd\r\n",
    "from Training import load_from_pkl"
   ],
   "outputs": [],
   "metadata": {}
  },
  {
   "cell_type": "code",
   "execution_count": 7,
   "source": [
    "parkplaetze = {\r\n",
    "    0: \"TREES_pkl/P1AK.pkl\",\r\n",
    "    1: \"TREES_pkl/P2AK.pkl\",\r\n",
    "    2: \"TREES_pkl/P3AK.pkl\",\r\n",
    "    3: \"TREES_pkl/P41AK.pkl\",\r\n",
    "    4: \"TREES_pkl/P42AK.pkl\",\r\n",
    "    5: \"TREES_pkl/P5AK.pkl\",\r\n",
    "    6: \"TREES_pkl/P61AK.pkl\",\r\n",
    "    7: \"TREES_pkl/P62AK.pkl\",\r\n",
    "    8: \"TREES_pkl/P63AK.pkl\",\r\n",
    "    9: \"TREES_pkl/P7AK.pkl\",\r\n",
    "    10: \"TREES_pkl/P8AK.pkl\",\r\n",
    "}"
   ],
   "outputs": [],
   "metadata": {}
  },
  {
   "cell_type": "code",
   "execution_count": 3,
   "source": [
    "def _vorhersage(p_index):\r\n",
    "    data = pd.read_csv(\"LIVE.csv\", sep=\",\", index_col=False)\r\n",
    "    tree = load_from_pkl(parkplaetze[p_index])\r\n",
    "    \r\n",
    "    query = {\r\n",
    "        'Wochentag': data[\"Wochentag\"],       # str  ->   \"Montag\"-\"Sontag\"\r\n",
    "        'Feiertag': data[\"Feiertag\"],         # bool ->   True/False\r\n",
    "        'Uhrzeit': data[\"Uhrzeit\"],           # str ->    \"00:00:00\"-\"23:00:00\"\r\n",
    "        'Schulferien': data[\"Ferien\"],   # bool ->   True/False\r\n",
    "        'Jahreszeit': data[\"Jahreszeit\"],     # str ->    \"Winter\"-\"Herbst\"\r\n",
    "        'Temp': data[\"Temp\"],                 # float ->  beliebig\r\n",
    "        'Rain': data[\"Rain\"],                 # float ->  beliebig\r\n",
    "        'Windlage': data[\"Windlage\"],         # str ->    \"Irrelevant\"/\"Frischer Wind\"/\"starker Wind\"/\"steifer Wind\"/\"stürmischer Wind\"/\"Sturm\"\r\n",
    "        'Event': data[\"Events\"]                # str ->    \"nichts\"/\"Weihnachtsmarkt\"/\"Luna-Park\"/\"Libori\"/\"Herbstlibori\"\r\n",
    "    }\r\n",
    "\r\n",
    "    vorhersage = tree.query(pd.Series(query))\r\n",
    "    return str(vorhersage*100)"
   ],
   "outputs": [],
   "metadata": {}
  },
  {
   "cell_type": "code",
   "execution_count": 29,
   "source": [
    "def sage_vorher_für(i):\r\n",
    "    print(f\"BEI \\\"{parkplaetze[i][10:][:4]}\\\" IST IN DER NÄCHSTEN STUNDE \"+ _vorhersage(i) + \"% BELEGUNG ERWARTET\") # 0-10"
   ],
   "outputs": [],
   "metadata": {}
  },
  {
   "cell_type": "markdown",
   "source": [
    "# VORHERSAGEN TREFFEN\r\n",
    "FERTIG)"
   ],
   "metadata": {}
  },
  {
   "cell_type": "code",
   "execution_count": 20,
   "source": [
    "parpkplatz = 0"
   ],
   "outputs": [],
   "metadata": {}
  },
  {
   "cell_type": "code",
   "execution_count": 28,
   "source": [
    "sage_vorher_für(parpkplatz)"
   ],
   "outputs": [
    {
     "output_type": "stream",
     "name": "stdout",
     "text": [
      "BEI \"P1AK\" IST IN DER NÄCHSTEN STUNDE 20.0% BELEGUNG ERWARTET\n"
     ]
    }
   ],
   "metadata": {}
  },
  {
   "cell_type": "code",
   "execution_count": null,
   "source": [],
   "outputs": [],
   "metadata": {}
  }
 ],
 "metadata": {
  "orig_nbformat": 4,
  "language_info": {
   "name": "python",
   "version": "3.9.7",
   "mimetype": "text/x-python",
   "codemirror_mode": {
    "name": "ipython",
    "version": 3
   },
   "pygments_lexer": "ipython3",
   "nbconvert_exporter": "python",
   "file_extension": ".py"
  },
  "kernelspec": {
   "name": "python3",
   "display_name": "Python 3.9.7 64-bit (windows store)"
  },
  "interpreter": {
   "hash": "c2ffa869dc0915dfde85298182570219b35846f4d930a86906308fc44ba3a032"
  }
 },
 "nbformat": 4,
 "nbformat_minor": 2
}